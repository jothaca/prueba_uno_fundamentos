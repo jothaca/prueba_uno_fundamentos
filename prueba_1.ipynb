{
 "cells": [
  {
   "cell_type": "markdown",
   "metadata": {},
   "source": [
    "Integrantes del equipo:\n",
    "\n",
    "Juan Mauricio Parrado Villa 1017206626\n",
    "Gerson Gabriel Erira Sánchez 1085931900\n",
    "Jonathan Carvajal Galeano   1053840600"
   ]
  },
  {
   "cell_type": "markdown",
   "metadata": {},
   "source": [
    "Ayuda:\n",
    "    Le da digitalización y gestión operativa a los pedido del establecimiento."
   ]
  },
  {
   "cell_type": "code",
   "execution_count": 42,
   "metadata": {},
   "outputs": [],
   "source": [
    "class Producto():\n",
    "    def __init__(self, precio: float, nombre: str, cantidad: int):\n",
    "        self.precio = precio\n",
    "        self.nombre = nombre\n",
    "        self.cantidad = cantidad\n",
    "\n",
    "class Pedido():\n",
    "    def __init__(self,lista_productos: list, cedula_usuario: int,  numero_pedido: int ):\n",
    "        self.lista_productos = lista_productos\n",
    "        self.cedula_usuario = cedula_usuario\n",
    "        self.numero_pedido = numero_pedido\n",
    "        self.estado = \"Creado\"\n",
    "\n",
    "    def procesar_pedido(self, productos_pedido: dict):\n",
    "        if self.estado == \"Creado\":\n",
    "            self.estado = \"Procesando\"\n",
    "            print(f\"El pedido: {self.numero_pedido} se comenzó a procesar.\")\n",
    "\n",
    "            for llave in productos_pedido.keys():\n",
    "                cont = 0\n",
    "                disponible = \"no\"\n",
    "                for product in self.lista_productos:\n",
    "                    if llave == product.nombre:\n",
    "                        disponible = \"si\"\n",
    "                        self.lista_productos[cont].cantidad = productos_pedido[llave]\n",
    "                    cont +=1\n",
    "                if disponible == \"no\":\n",
    "                    print(f\"El producto {llave}, no esta disponible en la tienda en este momento.\")\n",
    "\n",
    "        else:\n",
    "            print(\"El pedido no está creado o ya fue despachado\")\n",
    "\n",
    "    \n",
    "    def despachar_pedido(self):\n",
    "        if self.estado == \"Procesando\":\n",
    "            self.estado = \"Despachado\"\n",
    "            valor_total = 0\n",
    "            for item in self.lista_productos:\n",
    "                valor_total = valor_total + (item.precio * item.cantidad)\n",
    "            print(f\"El pedido: {self.numero_pedido} fue despachado \\n Y su valor de factura es: {valor_total}\")\n",
    "        else:\n",
    "            print(\"El pedido no se ha procesado.\")\n",
    "        \n",
    "    \n",
    "\n"
   ]
  },
  {
   "cell_type": "markdown",
   "metadata": {},
   "source": [
    "Main Punto 1"
   ]
  },
  {
   "cell_type": "code",
   "execution_count": 44,
   "metadata": {},
   "outputs": [
    {
     "name": "stdout",
     "output_type": "stream",
     "text": [
      "El pedido: 9000001 se comenzó a procesar.\n",
      "El producto lechuga, no esta disponible en la tienda en este momento.\n",
      "El pedido: 9000001 fue despachado \n",
      " Y su valor de factura es: 3250\n",
      "El pedido: 9000002 se comenzó a procesar.\n",
      "El pedido: 9000002 fue despachado \n",
      " Y su valor de factura es: 28050\n",
      "El pedido: 9000003 se comenzó a procesar.\n",
      "El producto Arracacha, no esta disponible en la tienda en este momento.\n",
      "El pedido: 9000003 fue despachado \n",
      " Y su valor de factura es: 28050\n"
     ]
    }
   ],
   "source": [
    "#lista de productos\n",
    "lista_productos_inventario = [\n",
    "    Producto(100, \"Manzana\", 0)\n",
    "    ,Producto(200, \"Pera\" , 0)\n",
    "    ,Producto(350, \"Tomate\" , 0)\n",
    "    ,Producto(600, \"Sandia\", 0)\n",
    "    ,Producto(1050, \"Mango\", 0)\n",
    "]\n",
    "\n",
    "pedido1 = Pedido(lista_productos_inventario, 100530444, 9000001 )\n",
    "productos_pedido1 = {\n",
    "        \"Manzana\" : 5,\n",
    "        \"Pera\" : 5,\n",
    "        \"Tomate\" : 5,\n",
    "        \"lechuga\" : 1\n",
    "\n",
    "}\n",
    "\n",
    "pedido2 = Pedido(lista_productos_inventario, 102043000, 9000002 )\n",
    "productos_pedido2 = {\n",
    "        \"Manzana\" : 15,\n",
    "        \"Pera\" : 25,\n",
    "        \"Sandia\" : 12,\n",
    "        \"Mango\" : 12\n",
    "\n",
    "}\n",
    "\n",
    "pedido3 = Pedido(lista_productos_inventario,102034509, 9000003 )\n",
    "productos_pedido3 = {\n",
    "        \"Manzana\" : 15,\n",
    "        \"Arracacha\" : 25\n",
    "\n",
    "}\n",
    "\n",
    "lista_pedidos = []\n",
    "lista_pedidos.append(pedido1)\n",
    "lista_pedidos.append(pedido2)\n",
    "lista_pedidos.append(pedido3)\n",
    "\n",
    "\n",
    "#trabajar:\n",
    "pedido1.procesar_pedido(productos_pedido1)\n",
    "pedido1.despachar_pedido()\n",
    "\n",
    "pedido2.procesar_pedido(productos_pedido2)\n",
    "pedido2.despachar_pedido()\n",
    "\n",
    "pedido3.procesar_pedido(productos_pedido3)\n",
    "pedido3.despachar_pedido()\n",
    "\n",
    "\n"
   ]
  },
  {
   "cell_type": "code",
   "execution_count": null,
   "metadata": {},
   "outputs": [],
   "source": []
  },
  {
   "cell_type": "markdown",
   "metadata": {},
   "source": [
    "Punto 2.3\n",
    "Ecuentre los auto valores y auto vectores de la matriz. 16 pts\n",
    "\n"
   ]
  },
  {
   "cell_type": "code",
   "execution_count": 2,
   "metadata": {},
   "outputs": [],
   "source": [
    "import numpy as np"
   ]
  },
  {
   "cell_type": "markdown",
   "metadata": {},
   "source": [
    "Sea A una matriz cuadrada de orden m. Diremos que un escalar λ ∈ K (= R o C) es un autovalor de A\n",
    "si existe un vector v ∈ Km, v 6= 0 tal que Av = λv, en cuyo caso se dice que v es un autovector de A asociado al\n",
    "autovalor λ.(*)\n",
    "\n",
    "(*) Algebra. 2004-2005. Ingenieros Industriales. Departamento de Matem´atica Aplicada II. Universidad de Sevilla"
   ]
  },
  {
   "cell_type": "code",
   "execution_count": 14,
   "metadata": {},
   "outputs": [
    {
     "name": "stdout",
     "output_type": "stream",
     "text": [
      "Los autovalores son: [5.44948974 0.55051026 1.        ]\n",
      "Los autovectores son: [[-3.53553391e-01 -3.53553391e-01  6.10622664e-16]\n",
      " [-8.66025404e-01  8.66025404e-01 -7.07106781e-01]\n",
      " [-3.53553391e-01 -3.53553391e-01  7.07106781e-01]]\n"
     ]
    }
   ],
   "source": [
    "arr = np.array([[2, 1, 1],\n",
    "                [4, 3, 2],\n",
    "                [1, 1, 2]])\n",
    "\n",
    "auto_resultados = np.linalg.eig(arr)\n",
    "\n",
    "print(f\"Los autovalores son: {auto_resultados.eigenvalues}\")\n",
    "print(f\"Los autovectores son: {auto_resultados.eigenvectors}\")\n",
    "\n"
   ]
  },
  {
   "cell_type": "code",
   "execution_count": null,
   "metadata": {},
   "outputs": [],
   "source": []
  }
 ],
 "metadata": {
  "kernelspec": {
   "display_name": "venvnumpy",
   "language": "python",
   "name": "python3"
  },
  "language_info": {
   "codemirror_mode": {
    "name": "ipython",
    "version": 3
   },
   "file_extension": ".py",
   "mimetype": "text/x-python",
   "name": "python",
   "nbconvert_exporter": "python",
   "pygments_lexer": "ipython3",
   "version": "3.12.5"
  }
 },
 "nbformat": 4,
 "nbformat_minor": 2
}
