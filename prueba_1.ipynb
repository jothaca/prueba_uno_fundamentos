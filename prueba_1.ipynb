{
 "cells": [
  {
   "cell_type": "markdown",
   "metadata": {},
   "source": [
    "Integrantes del equipo:\n",
    "\n",
    "Juan Mauricio Parrado Villa 1017206626\n",
    "Gerson Gabriel Erira Sánchez 1085931900\n",
    "Jonathan Carvajal Galeano   1053840600"
   ]
  },
  {
   "cell_type": "markdown",
   "metadata": {},
   "source": [
    "Ayuda:\n",
    "    Le da digitalización y gestión operativa a los pedido del establecimiento."
   ]
  },
  {
   "cell_type": "code",
   "execution_count": 2,
   "metadata": {},
   "outputs": [],
   "source": [
    "class Producto():\n",
    "    \"\"\"\n",
    "    La clase Producto que representa un producto en la tienda.\n",
    "\n",
    "    Atributos:\n",
    "    - precio (float): El precio del producto.\n",
    "    - nombre (str): El nombre del producto.\n",
    "    - cantidad (int): La cantidad disponible del producto.\n",
    "    \"\"\"\n",
    "    def __init__(self, precio: float, nombre: str, cantidad: int):\n",
    "        self.precio = precio\n",
    "        self.nombre = nombre\n",
    "        self.cantidad = cantidad\n",
    "\n",
    "class Pedido():\n",
    "    \"\"\"\n",
    "    Esta es la clase Pedido que representa un pedido realizado por un usuario.\n",
    "\n",
    "    Atributos:\n",
    "    - lista_productos (list): Lista de instancias de la clase Producto incluidas en el pedido.\n",
    "    - cedula_usuario (int): Identificación del usuario que realiza el pedido.\n",
    "    - numero_pedido (int): Número único que identifica el pedido.\n",
    "    - estado (str): Estado actual del pedido. Puede ser \"Creado\", \"Procesando\" o \"Despachado\".\n",
    "    \"\"\"\n",
    "    def __init__(self,lista_productos: list, cedula_usuario: int,  numero_pedido: int ):\n",
    "        self.lista_productos = lista_productos\n",
    "        self.cedula_usuario = cedula_usuario\n",
    "        self.numero_pedido = numero_pedido\n",
    "        self.estado = \"Creado\"\n",
    "\n",
    "    def procesar_pedido(self, productos_pedido: dict):\n",
    "        \"\"\"\n",
    "        Cambia el estado del pedido a \"Procesando\" y actualiza las cantidades de los productos según el pedido.\n",
    "\n",
    "        Parámetros:\n",
    "        - productos_pedido (dict): Diccionario donde las claves son los nombres de los productos y los valores son las cantidades solicitadas.\n",
    "        \"\"\"\n",
    "        if self.estado == \"Creado\":\n",
    "            self.estado = \"Procesando\"\n",
    "            print(f\"El pedido: {self.numero_pedido} se comenzó a procesar.\")\n",
    "\n",
    "            for llave in productos_pedido.keys():\n",
    "                cont = 0\n",
    "                disponible = \"no\"\n",
    "                for product in self.lista_productos:\n",
    "                    if llave == product.nombre:\n",
    "                        disponible = \"si\"\n",
    "                        self.lista_productos[cont].cantidad = productos_pedido[llave]\n",
    "                    cont +=1\n",
    "                if disponible == \"no\":\n",
    "                    print(f\"El producto {llave}, no esta disponible en la tienda en este momento.\")\n",
    "\n",
    "        else:\n",
    "            print(\"El pedido no está creado o ya fue despachado\")\n",
    "\n",
    "    \n",
    "    def despachar_pedido(self):\n",
    "        \"\"\"\n",
    "        Cambia el estado del pedido a \"Despachado\" y calcula el valor total de la factura.\n",
    "        \"\"\"\n",
    "        if self.estado == \"Procesando\":\n",
    "            self.estado = \"Despachado\"\n",
    "            valor_total = 0\n",
    "            for item in self.lista_productos:\n",
    "                valor_total = valor_total + (item.precio * item.cantidad)\n",
    "            print(f\"El pedido: {self.numero_pedido} fue despachado \\n Y su valor de factura es: {valor_total}\")\n",
    "        else:\n",
    "            print(\"El pedido no se ha procesado.\")\n",
    "        \n",
    "    \n",
    "\n"
   ]
  },
  {
   "cell_type": "markdown",
   "metadata": {},
   "source": [
    "Punto 1.4: Cree que se pueda construir una clase hija que ayude al proceso? Si sí constrúyala, sino, argumente por qué en una célda de texto.\n",
    "\n",
    "Si creemos que una clase hija Domicilio ayude al establecimiento, a controlar de una mejor forma los pedidos por domicilio. Esta clase heredará todo de su padre y añadirá una dirección que sólo debe ir en el caso de los Domicilios."
   ]
  },
  {
   "cell_type": "code",
   "execution_count": 3,
   "metadata": {},
   "outputs": [],
   "source": [
    "class Domicilio(Pedido):\n",
    "    \"\"\"\n",
    "    La clase Domicilio representa un pedido que será entregado a domicilio.\n",
    "\n",
    "    Hereda de:\n",
    "    - Pedido: La clase base que representa un pedido en general.\n",
    "\n",
    "    Atributos adicionales:\n",
    "    - direccion (str): La dirección a la que se debe entregar el pedido.\n",
    "    \"\"\"\n",
    "    def __init__(self, lista_productos: list, cedula_usuario: int, numero_pedido: int, direccion: str):\n",
    "        super().__init__(lista_productos, cedula_usuario, numero_pedido) \n",
    "        self.direccion = direccion\n",
    "    \n"
   ]
  },
  {
   "cell_type": "markdown",
   "metadata": {},
   "source": [
    "Main Punto 1"
   ]
  },
  {
   "cell_type": "code",
   "execution_count": 6,
   "metadata": {},
   "outputs": [
    {
     "name": "stdout",
     "output_type": "stream",
     "text": [
      "El pedido: 9000001 se comenzó a procesar.\n",
      "El producto lechuga, no esta disponible en la tienda en este momento.\n",
      "El pedido: 9000001 fue despachado \n",
      " Y su valor de factura es: 3250\n",
      "El pedido: 9000002 se comenzó a procesar.\n",
      "El pedido: 9000002 fue despachado \n",
      " Y su valor de factura es: 28050\n",
      "El pedido: 9000003 se comenzó a procesar.\n",
      "El producto Arracacha, no esta disponible en la tienda en este momento.\n",
      "El pedido: 9000003 fue despachado \n",
      " Y su valor de factura es: 28050\n",
      "El pedido: 100001 se comenzó a procesar.\n",
      "El pedido: 100001 fue despachado \n",
      " Y su valor de factura es: 31550\n"
     ]
    }
   ],
   "source": [
    "#lista de productos\n",
    "lista_productos_inventario = [\n",
    "    Producto(100, \"Manzana\", 0)\n",
    "    ,Producto(200, \"Pera\" , 0)\n",
    "    ,Producto(350, \"Tomate\" , 0)\n",
    "    ,Producto(600, \"Sandia\", 0)\n",
    "    ,Producto(1050, \"Mango\", 0)\n",
    "]\n",
    "\n",
    "pedido1 = Pedido(lista_productos_inventario, 100530444, 9000001 )\n",
    "productos_pedido1 = {\n",
    "        \"Manzana\" : 5,\n",
    "        \"Pera\" : 5,\n",
    "        \"Tomate\" : 5,\n",
    "        \"lechuga\" : 1\n",
    "\n",
    "}\n",
    "\n",
    "pedido2 = Pedido(lista_productos_inventario, 102043000, 9000002 )\n",
    "productos_pedido2 = {\n",
    "        \"Manzana\" : 15,\n",
    "        \"Pera\" : 25,\n",
    "        \"Sandia\" : 12,\n",
    "        \"Mango\" : 12\n",
    "\n",
    "}\n",
    "\n",
    "pedido3 = Pedido(lista_productos_inventario,102034509, 9000003 )\n",
    "productos_pedido3 = {\n",
    "        \"Manzana\" : 15,\n",
    "        \"Arracacha\" : 25\n",
    "\n",
    "}\n",
    "\n",
    "\n",
    "domicilio1 = Domicilio(lista_productos_inventario,102034509, 100001, \"Calle 55 #23-32\" )\n",
    "productos_domicilio1 = {\n",
    "        \"Manzana\" : 50\n",
    "}\n",
    "\n",
    "\n",
    "\n",
    "#trabajar:\n",
    "pedido1.procesar_pedido(productos_pedido1)\n",
    "pedido1.despachar_pedido()\n",
    "\n",
    "pedido2.procesar_pedido(productos_pedido2)\n",
    "pedido2.despachar_pedido()\n",
    "\n",
    "pedido3.procesar_pedido(productos_pedido3)\n",
    "pedido3.despachar_pedido()\n",
    "\n",
    "domicilio1.procesar_pedido(productos_domicilio1)\n",
    "domicilio1.despachar_pedido()\n",
    "\n",
    "\n",
    "\n"
   ]
  },
  {
   "cell_type": "code",
   "execution_count": null,
   "metadata": {},
   "outputs": [],
   "source": []
  },
  {
   "cell_type": "markdown",
   "metadata": {},
   "source": [
    "Punto 2.3\n",
    "Encuentre los auto valores y auto vectores de la matriz.\n",
    "\n"
   ]
  },
  {
   "cell_type": "code",
   "execution_count": 18,
   "metadata": {},
   "outputs": [],
   "source": [
    "import numpy as np"
   ]
  },
  {
   "cell_type": "markdown",
   "metadata": {},
   "source": [
    "Sea A una matriz cuadrada de orden m. Diremos que un escalar λ ∈ K (= R o C) es un autovalor de A\n",
    "si existe un vector v ∈ Km, v 6= 0 tal que Av = λv, en cuyo caso se dice que v es un autovector de A asociado al\n",
    "autovalor λ.(*)\n",
    "\n",
    "(*) Algebra. 2004-2005. Ingenieros Industriales. Departamento de Matem´atica Aplicada II. Universidad de Sevilla"
   ]
  },
  {
   "cell_type": "code",
   "execution_count": 14,
   "metadata": {},
   "outputs": [
    {
     "name": "stdout",
     "output_type": "stream",
     "text": [
      "Los autovalores son: [5.44948974 0.55051026 1.        ]\n",
      "Los autovectores son: [[-3.53553391e-01 -3.53553391e-01  6.10622664e-16]\n",
      " [-8.66025404e-01  8.66025404e-01 -7.07106781e-01]\n",
      " [-3.53553391e-01 -3.53553391e-01  7.07106781e-01]]\n"
     ]
    }
   ],
   "source": [
    "arr = np.array([[2, 1, 1],\n",
    "                [4, 3, 2],\n",
    "                [1, 1, 2]])\n",
    "\n",
    "auto_resultados = np.linalg.eig(arr)\n",
    "\n",
    "print(f\"Los autovalores son: {auto_resultados.eigenvalues}\")\n",
    "print(f\"Los autovectores son: {auto_resultados.eigenvectors}\")\n",
    "\n"
   ]
  },
  {
   "cell_type": "markdown",
   "metadata": {},
   "source": [
    "Punto 2.2: \n",
    "Calcule el valor del número de Euler o constante de Napier  e=2,71828  como\n",
    "\n",
    "$$e = \\sum_i ^{\\infty} \\frac{1}{n!}$$\n"
   ]
  },
  {
   "cell_type": "code",
   "execution_count": 61,
   "metadata": {},
   "outputs": [],
   "source": [
    "def factorial(n):\n",
    "    vector = np.arange(1, n+1)\n",
    "    return np.prod(vector)\n"
   ]
  },
  {
   "cell_type": "code",
   "execution_count": 60,
   "metadata": {},
   "outputs": [],
   "source": [
    "def hallar_euler(inf):\n",
    "    return (sum( (1 / factorial(n)) for n in range(0,inf+1)))"
   ]
  },
  {
   "cell_type": "code",
   "execution_count": 62,
   "metadata": {},
   "outputs": [
    {
     "data": {
      "text/plain": [
       "np.float64(2.7182815255731922)"
      ]
     },
     "execution_count": 62,
     "metadata": {},
     "output_type": "execute_result"
    }
   ],
   "source": [
    "hallar_euler(9)"
   ]
  }
 ],
 "metadata": {
  "kernelspec": {
   "display_name": "venvnumpy",
   "language": "python",
   "name": "python3"
  },
  "language_info": {
   "codemirror_mode": {
    "name": "ipython",
    "version": 3
   },
   "file_extension": ".py",
   "mimetype": "text/x-python",
   "name": "python",
   "nbconvert_exporter": "python",
   "pygments_lexer": "ipython3",
   "version": "3.12.5"
  }
 },
 "nbformat": 4,
 "nbformat_minor": 2
}
